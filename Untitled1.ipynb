{
 "cells": [
  {
   "cell_type": "code",
   "execution_count": 1,
   "metadata": {},
   "outputs": [],
   "source": [
    "import gradient\n",
    "from constants import *\n",
    "from train import *\n",
    "from gradient import *\n",
    "import util\n",
    "import argparse\n",
    "import neuralnet\n",
    "\n"
   ]
  },
  {
   "cell_type": "code",
   "execution_count": 2,
   "metadata": {},
   "outputs": [],
   "source": [
    "def main(args):\n",
    "\n",
    "    # Read the required config\n",
    "    # Create different config files for different experiments\n",
    "    configFile=None #Will contain the name of the config file to be loaded\n",
    "    if (args.experiment == 'test_gradients'):  #3b\n",
    "        configFile = 'config_3b.yaml' # Create a config file for 3b and change None to the config file name\n",
    "    elif(args.experiment=='test_momentum'):  #3c\n",
    "        configFile = \"config_3c.yaml\" # Create a config file for 3c and change None to the config file name\n",
    "    elif (args.experiment == 'test_regularization'): #3d\n",
    "        configFile = \"config_3d.yaml\" # Create a config file for 3d and change None to the config file name\n",
    "    elif (args.experiment == 'test_activation'): #3e\n",
    "        configFile = \"config_3e.yaml\" # Create a config file for 3e and change None to the config file name\n",
    "    elif (args.experiment == 'test_hidden_units'):  #3f-i\n",
    "        configFile = \"config_3f_i.yaml\" # Create a config file for 3f-i and change None to the config file name\n",
    "    elif (args.experiment == 'test_hidden_layers'):  #3f-ii\n",
    "        configFile = \"config_3f_ii.yaml\" # Create a config file for 3f-ii and change None to the config file name\n",
    "    elif (args.experiment == 'test_100_classes'):  #3g\n",
    "        configFile = \"config_3g.yaml\" # Create a config file for 3g and change None to the config file name. Please make the necessaty changes to load_data()\n",
    "        # in util.py first before running this experiment\n",
    "\n",
    "    # Load the data\n",
    "    x_train, y_train, x_valid, y_valid, x_test, y_test = util.load_data(path='')  # Set datasetDir in constants.py\n",
    "\n",
    "    # Load the configuration from the corresponding yaml file. Specify the file path and name\n",
    "    config = util.load_config('configs/' + configFile) # Set configYamlPath, configFile  in constants.py\n",
    "\n",
    "    if(args.experiment == 'test_gradients'):\n",
    "        gradient.checkGradient(x_train,y_train,config)\n",
    "        return 1\n",
    "    else:\n",
    "        model = neuralnet.Neuralnetwork(config)\n",
    "        model = modeltrain(model, x_train, y_train, x_valid, y_valid, config)\n",
    "        test_loss, test_acc =  modelTest(model, x_test, y_test)\n",
    "        print('Test Accuracy:', test_acc, ' Test Loss:', test_loss)\n",
    "\n",
    "\n",
    "\n"
   ]
  },
  {
   "cell_type": "code",
   "execution_count": null,
   "metadata": {},
   "outputs": [],
   "source": [
    "if __name__ == \"__main__\":\n",
    "\n",
    "    # Parse the input arguments\n",
    "    parser = argparse.ArgumentParser()\n",
    "    parser.add_argument('--experiment', type=str, default='test_momentum', help='Specify the experiment that you want to run')\n",
    "    args, unknown = parser.parse_known_args()\n",
    "\n",
    "    #args.experiment = 'test_regularization'\n",
    "    #args.experiment = 'test_activation'\n",
    "    # args.experiment = 'test_hidden_units'\n",
    "    # args.experiment = 'test_hidden_layers'\n",
    "    #args.experiment = 'test_100_classes'\n",
    "    #args.experiment = 'test_hidden_units'\n",
    "    #args.experiment = 'test_hidden_layers'\n",
    "    main(args)\n"
   ]
  }
 ],
 "metadata": {
  "kernelspec": {
   "display_name": "Python 3",
   "language": "python",
   "name": "python3"
  },
  "language_info": {
   "codemirror_mode": {
    "name": "ipython",
    "version": 3
   },
   "file_extension": ".py",
   "mimetype": "text/x-python",
   "name": "python",
   "nbconvert_exporter": "python",
   "pygments_lexer": "ipython3",
   "version": "3.8.5"
  }
 },
 "nbformat": 4,
 "nbformat_minor": 4
}
